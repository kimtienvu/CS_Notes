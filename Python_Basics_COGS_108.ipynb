{
  "nbformat": 4,
  "nbformat_minor": 0,
  "metadata": {
    "colab": {
      "name": "Python_Basics_COGS_108.ipynb",
      "provenance": [],
      "collapsed_sections": [],
      "authorship_tag": "ABX9TyND2zJP3t9yMnC70ET6GwS7",
      "include_colab_link": true
    },
    "kernelspec": {
      "name": "python3",
      "display_name": "Python 3"
    }
  },
  "cells": [
    {
      "cell_type": "markdown",
      "metadata": {
        "id": "view-in-github",
        "colab_type": "text"
      },
      "source": [
        "<a href=\"https://colab.research.google.com/github/kimtienvu/CS_Undergrad_Notes/blob/master/Python_Basics_COGS_108.ipynb\" target=\"_parent\"><img src=\"https://colab.research.google.com/assets/colab-badge.svg\" alt=\"Open In Colab\"/></a>"
      ]
    },
    {
      "cell_type": "markdown",
      "metadata": {
        "id": "VTS4MAwV_AiX",
        "colab_type": "text"
      },
      "source": [
        "**Python Basics to help with COGS 108 Programming Assignments**"
      ]
    },
    {
      "cell_type": "markdown",
      "metadata": {
        "id": "6Lx9yOlI_ayu",
        "colab_type": "text"
      },
      "source": [
        "**1. How to print (useful for debugging variables)**"
      ]
    },
    {
      "cell_type": "code",
      "metadata": {
        "id": "_LkKJcvY-zUX",
        "colab_type": "code",
        "colab": {
          "base_uri": "https://localhost:8080/",
          "height": 34
        },
        "outputId": "bf188d2a-db41-4637-ffdd-cea4f41106a3"
      },
      "source": [
        "print(\"hello world!\") # Notice there are no semi-colons like in Java or C"
      ],
      "execution_count": 2,
      "outputs": [
        {
          "output_type": "stream",
          "text": [
            "hello world!\n"
          ],
          "name": "stdout"
        }
      ]
    },
    {
      "cell_type": "markdown",
      "metadata": {
        "id": "8O9IS0Zj_ggb",
        "colab_type": "text"
      },
      "source": [
        "**2. Go Over Different Data Types!**\n",
        "* Strings\n",
        "* Integers\n",
        "* Floats\n",
        "* Lists\n",
        "* Tuples\n",
        "* Dictionaries"
      ]
    },
    {
      "cell_type": "code",
      "metadata": {
        "id": "glP6Fkan_mK8",
        "colab_type": "code",
        "colab": {
          "base_uri": "https://localhost:8080/",
          "height": 34
        },
        "outputId": "c810f34f-4a76-4efd-f879-27aa81cbf1cc"
      },
      "source": [
        "# Strings (snake_case is the convention for strings)\n",
        "first_name = \"first\"  # Notice there are no semi-colons\n",
        "last_name = \"last\"\n",
        "print(first_name + \" \" + last_name)"
      ],
      "execution_count": 3,
      "outputs": [
        {
          "output_type": "stream",
          "text": [
            "first last\n"
          ],
          "name": "stdout"
        }
      ]
    },
    {
      "cell_type": "code",
      "metadata": {
        "id": "N4USFS7iB4r6",
        "colab_type": "code",
        "colab": {
          "base_uri": "https://localhost:8080/",
          "height": 101
        },
        "outputId": "3e707c0b-7c12-4491-c411-bafe693969b4"
      },
      "source": [
        "# Integers\n",
        "a = 100\n",
        "b = 2\n",
        "c = -5\n",
        "\n",
        "# Need to convert integer to string using the str() method in order to print.\n",
        "# The print method prints out ONLY strings OR integers\n",
        "\n",
        "# This will not work: print(\"a = \" + a)\n",
        "\n",
        "# This will work:\n",
        "print(a)\n",
        "print(\"a = \" + str(a)) \n",
        "print(\"b = \" + str(b))\n",
        "print(\"c = \" + str(c))\n",
        "\n",
        "total = a + b + c\n",
        "\n",
        "print(\"Total = \" + str(total))"
      ],
      "execution_count": 6,
      "outputs": [
        {
          "output_type": "stream",
          "text": [
            "100\n",
            "a = 100\n",
            "b = 2\n",
            "c = -5\n",
            "Total = 97\n"
          ],
          "name": "stdout"
        }
      ]
    },
    {
      "cell_type": "code",
      "metadata": {
        "id": "PMzR6XzCC_EH",
        "colab_type": "code",
        "colab": {
          "base_uri": "https://localhost:8080/",
          "height": 84
        },
        "outputId": "12cbdac4-3e48-4298-ebe3-95bdf6feb562"
      },
      "source": [
        "# Floats (decimals)\n",
        "d = 1.1\n",
        "e = 3.14\n",
        "f = 7 # This is an integer\n",
        "\n",
        "# Must convert to string to print out (similar to integers)\n",
        "# This will not work:\n",
        "# print(\"d = \" + d)\n",
        "\n",
        "# This will work\n",
        "print(\"d = \" + str(d))\n",
        "print(\"e = \" + str(e))\n",
        "print(\"f = \" + str(f))\n",
        "\n",
        "float_total = d + e + f # You can do arithmetic with integers and floats\n",
        "\n",
        "print(\"float total = \" + str(float_total))\n"
      ],
      "execution_count": 10,
      "outputs": [
        {
          "output_type": "stream",
          "text": [
            "d = 1.1\n",
            "e = 3.14\n",
            "f = 7\n",
            "float total = 11.24\n"
          ],
          "name": "stdout"
        }
      ]
    },
    {
      "cell_type": "markdown",
      "metadata": {
        "id": "QNgi7-ciDvIv",
        "colab_type": "text"
      },
      "source": [
        "A List is like an array in Java or C. They are declared with `[]` and can hold any data type. Lists can hold lists inside them (like 2D arrays in Java) and each list item is separated by a `,`. "
      ]
    },
    {
      "cell_type": "code",
      "metadata": {
        "id": "s8Ead-WBDs6z",
        "colab_type": "code",
        "colab": {
          "base_uri": "https://localhost:8080/",
          "height": 235
        },
        "outputId": "37486ae9-abf1-4b03-e918-33fe8c82ce79"
      },
      "source": [
        "# Declare an empty list:\n",
        "empty_list = []\n",
        "\n",
        "# Get the length of a list\n",
        "print(len(empty_list)) # This returns 0\n",
        "\n",
        "animals = ['cat', 'dog', 'fish']\n",
        "print(len(animals)) # Returns 3\n",
        "\n",
        "# List of Lists\n",
        "List_2D = [['a','b','c'], [1,2,3]]\n",
        "print(len(List_2D)) # Length would be 2\n",
        "\n",
        "# Accessing elements in a List\n",
        "print(\"index 0 \" + animals[0]) # Lists are zero-indexed!\n",
        "print(\"index 1 \" + animals[1])\n",
        "print(\"index 2 \" + animals[2])\n",
        "\n",
        "# Accessing Lists inside Lists\n",
        "print(\"index 0:0 \" + List_2D[0][0]) # [first list][first element of this list]\n",
        "print(\"index 0:1 \" + List_2D[0][1])\n",
        "print(\"index 0:2 \" + List_2D[0][2])\n",
        "\n",
        "# Need to convert to string if element is an int and trying to print!\n",
        "print(\"index 1:0 \" + str(List_2D[1][0])) # [second list][first element of this list]\n",
        "print(\"index 1:1 \" + str(List_2D[1][1]))\n",
        "print(\"index 1:2 \" + str(List_2D[1][2]))\n",
        "\n",
        "# TIP: If you need to check the type of element you have in Python, use the type() method:\n",
        "# Ex: Get the type of the animals variable:\n",
        "print(type(animals)) # Returns <class 'list'> --> This means that the animals variable is a type List."
      ],
      "execution_count": 27,
      "outputs": [
        {
          "output_type": "stream",
          "text": [
            "0\n",
            "3\n",
            "2\n",
            "index 0 cat\n",
            "index 1 dog\n",
            "index 2 fish\n",
            "index 0:0 a\n",
            "index 0:1 b\n",
            "index 0:2 c\n",
            "index 1:0 1\n",
            "index 1:1 2\n",
            "index 1:2 3\n",
            "<class 'list'>\n"
          ],
          "name": "stdout"
        }
      ]
    },
    {
      "cell_type": "markdown",
      "metadata": {
        "id": "Ruh-slybHAnX",
        "colab_type": "text"
      },
      "source": [
        "You can also use loops to print out elements inside a list."
      ]
    },
    {
      "cell_type": "code",
      "metadata": {
        "id": "oJcviEcHHE8p",
        "colab_type": "code",
        "colab": {
          "base_uri": "https://localhost:8080/",
          "height": 151
        },
        "outputId": "a4d150ea-0f59-4ea8-e4bf-7dfcac83e148"
      },
      "source": [
        "# NOTE: DO NOT HARDCODE THE LENGTH OF THE LOOP! Even if you know the length is a constant number like 5, use len() to denote the end of a list, dictionary, etc.\n",
        "\n",
        "# For loop example\n",
        "print(\"for loop\")\n",
        "# You can replace \"el\" with any word (this is the \"i\" in a Java or C loop)\n",
        "for el in animals: # Notice there are no brackets, Python for loops use a colon (:) and indent all the lines of code inside the for loop\n",
        "  print(el)\n",
        "\n",
        "# While loop example\n",
        "print(\"while loop\")\n",
        "x = 0\n",
        "while x < len(animals):\n",
        "  print(animals[x])\n",
        "  x = x + 1\n"
      ],
      "execution_count": 31,
      "outputs": [
        {
          "output_type": "stream",
          "text": [
            "for loop\n",
            "cat\n",
            "dog\n",
            "fish\n",
            "while loop\n",
            "cat\n",
            "dog\n",
            "fish\n"
          ],
          "name": "stdout"
        }
      ]
    },
    {
      "cell_type": "markdown",
      "metadata": {
        "id": "9S2hstXrLrqf",
        "colab_type": "text"
      },
      "source": [
        "**Tuples are like lists, only they are unchangeable and created with `()`**"
      ]
    },
    {
      "cell_type": "code",
      "metadata": {
        "id": "5fzaxEdzMIBu",
        "colab_type": "code",
        "colab": {
          "base_uri": "https://localhost:8080/",
          "height": 101
        },
        "outputId": "bc714b6e-5bb0-4c5b-8faa-1e76233165e7"
      },
      "source": [
        "number_tuple = (1, 3, 5, 7)\n",
        "print(len(number_tuple)) # Returns length of 4\n",
        "\n",
        "# You access elements like you access lists\n",
        "print(number_tuple[0]) # Returns 1\n",
        "print(number_tuple[1]) # Returns 3\n",
        "print(number_tuple[2]) # Returns 5\n",
        "print(number_tuple[3]) # Returns 7\n"
      ],
      "execution_count": 34,
      "outputs": [
        {
          "output_type": "stream",
          "text": [
            "4\n",
            "1\n",
            "3\n",
            "5\n",
            "7\n"
          ],
          "name": "stdout"
        }
      ]
    },
    {
      "cell_type": "markdown",
      "metadata": {
        "id": "3BACd03UMd3j",
        "colab_type": "text"
      },
      "source": [
        "A Dictionary is like a 2D Array that is organized by key:value and created with `{}`"
      ]
    },
    {
      "cell_type": "code",
      "metadata": {
        "id": "BF6UpcaiMt8i",
        "colab_type": "code",
        "colab": {
          "base_uri": "https://localhost:8080/",
          "height": 101
        },
        "outputId": "4d6fe0e5-ec92-4261-dbc5-b27a3b9885a2"
      },
      "source": [
        "# Create an empty dictionary\n",
        "dictionary_empty = {}\n",
        "\n",
        "print(type(dictionary_empty)) # Returns 'dict' (dictionary) as the type\n",
        "print(len(dictionary_empty)) # Returns 0\n",
        "\n",
        "dictionary_num = {'even': 2, 'odd':3} # Keys and values do not have to be the same data type\n",
        "\n",
        "# Access a value with the key\n",
        "print(\"dictionary values: \")\n",
        "print(dictionary_num['even']) # Returns 2\n",
        "print(dictionary_num['odd']) # Returns 3"
      ],
      "execution_count": 38,
      "outputs": [
        {
          "output_type": "stream",
          "text": [
            "<class 'dict'>\n",
            "0\n",
            "dictionary values: \n",
            "2\n",
            "3\n"
          ],
          "name": "stdout"
        }
      ]
    },
    {
      "cell_type": "markdown",
      "metadata": {
        "id": "eOsAGalKOVzX",
        "colab_type": "text"
      },
      "source": [
        "**3. If-Else statements** (Similar to Java and C, but with syntax differences)"
      ]
    },
    {
      "cell_type": "code",
      "metadata": {
        "id": "B-GOdE2QOaWI",
        "colab_type": "code",
        "colab": {
          "base_uri": "https://localhost:8080/",
          "height": 50
        },
        "outputId": "36143094-9cb3-44a2-c82a-ef1ba6bbe002"
      },
      "source": [
        "age = 10\n",
        "if age < 18:\n",
        "  print(\"You are a minor\")\n",
        "else:\n",
        "  print(\"You are NOT a minor XD\")\n",
        "\n",
        "grade = 95\n",
        "if grade < 70:\n",
        "  print(\"Try Harder!\")\n",
        "elif grade < 80:\n",
        "  print(\"Doing Good!\")\n",
        "elif grade < 90:\n",
        "  print(\"Doing Great!\")\n",
        "else:\n",
        "  print(\"You're such a perfectionist!\")"
      ],
      "execution_count": 40,
      "outputs": [
        {
          "output_type": "stream",
          "text": [
            "You are a minor\n",
            "You're such a perfectionist!\n"
          ],
          "name": "stdout"
        }
      ]
    },
    {
      "cell_type": "markdown",
      "metadata": {
        "id": "OPlBATusQ__Q",
        "colab_type": "text"
      },
      "source": [
        "**4. Writing Functions**"
      ]
    },
    {
      "cell_type": "code",
      "metadata": {
        "id": "JMwxUZVHRD7Q",
        "colab_type": "code",
        "colab": {
          "base_uri": "https://localhost:8080/",
          "height": 50
        },
        "outputId": "b5022542-512f-4ca3-8eb4-a435e021fdd0"
      },
      "source": [
        "# You WILL be asked to write functions, sometimes helper functions to incorporate into pre-existing functions given to you\n",
        "\n",
        "# Function with 0 arguments\n",
        "def say_hi():\n",
        "  print(\"HI!\")\n",
        "\n",
        "def add1(x): # Define the function, parameters do NOT need a data type\n",
        "  return x + 1 \n",
        "\n",
        "y = add1(11)\n",
        "\n",
        "say_hi()\n",
        "print(y)"
      ],
      "execution_count": 47,
      "outputs": [
        {
          "output_type": "stream",
          "text": [
            "HI!\n",
            "12\n"
          ],
          "name": "stdout"
        }
      ]
    }
  ]
}